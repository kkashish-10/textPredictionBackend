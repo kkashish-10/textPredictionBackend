{
 "cells": [
  {
   "cell_type": "code",
   "execution_count": 34,
   "metadata": {},
   "outputs": [],
   "source": [
    "# load data and convert to lowercase for reducing the vocabulary that the network must learn\n",
    "raw_data = open(r\"wonderland.txt\", encoding='utf-8').read()\n",
    "raw_data = raw_data.lower().split('\\n')"
   ]
  },
  {
   "cell_type": "code",
   "execution_count": 59,
   "metadata": {},
   "outputs": [
    {
     "data": {
      "text/plain": [
       "28204"
      ]
     },
     "execution_count": 59,
     "metadata": {},
     "output_type": "execute_result"
    }
   ],
   "source": [
    "from tensorflow.keras.preprocessing.text import Tokenizer\n",
    "# create input sequence using list of tokens generated from raw_data\n",
    "\n",
    "\n",
    "def get_sequence_of_tokens(raw_data):\n",
    "    kToken = Tokenizer()\n",
    "    kToken.fit_on_texts(raw_data)\n",
    "    vocab_size = len(kToken.word_index)+1\n",
    "    input_sequences = []\n",
    "    for line in raw_data:\n",
    "        token_list = kToken.texts_to_sequences([line])[0]\n",
    "        # token_list=[line][0]\n",
    "        for i in range(1, len(token_list)):\n",
    "            n_gram_seq = token_list[:i+1]\n",
    "            input_sequences.append(n_gram_seq)\n",
    "    return input_sequences, vocab_size\n",
    "in_seq,vocab_size=get_sequence_of_tokens(raw_data)\n",
    "input_sequences[:20]"
   ]
  },
  {
   "cell_type": "code",
   "execution_count": 65,
   "metadata": {},
   "outputs": [
    {
     "data": {
      "text/plain": [
       "18"
      ]
     },
     "execution_count": 65,
     "metadata": {},
     "output_type": "execute_result"
    }
   ],
   "source": [
    "# pad the input sequences generated in previous step.\n",
    "import numpy\n",
    "from tensorflow.keras.preprocessing.sequence import pad_sequences\n",
    "from tensorflow.keras.utils import to_categorical\n",
    "\n",
    "\n",
    "def generate_padded_sequence(input_sequences):\n",
    "    max_seq_len = max([len(x) for x in input_sequences])\n",
    "    input_sequences = numpy.array(pad_sequences(\n",
    "        input_sequences, maxlen=max_seq_len, padding='pre'))\n",
    "    # create predictors and labels\n",
    "    predictors, labels = input_sequences[:, :-1], input_sequences[:, -1]\n",
    "    labels = to_categorical(labels, num_classes=vocab_size)\n",
    "    return predictors, labels, max_seq_len\n",
    "\n",
    "\n",
    "predictors, labels, max_seq_len = generate_padded_sequence(input_sequences)"
   ]
  },
  {
   "cell_type": "code",
   "execution_count": null,
   "metadata": {},
   "outputs": [],
   "source": [
    "# defining the model # don't execute this cell\n",
    "# import tensorflow as tf\n",
    "\n",
    "# regressor = tf.keras.models.Sequential()\n",
    "# regressor.add(tf.keras.layers.Embedding(\n",
    "#     vocab_size, 100, input_length=max_seq_len-1))\n",
    "# regressor.add(tf.keras.layers.Bidirectional(\n",
    "#     tf.keras.layers.LSTM(150, return_sequences=True)))\n",
    "# regressor.add(tf.keras.layers.Dropout(0.4))\n",
    "# regressor.add(tf.keras.layers.LSTM(50))\n",
    "# regressor.add(tf.keras.layers.Dense(vocab_size/2,activation='relu',kernel_regularizer=tf.keras.regularizers.l2(0.01)))\n",
    "# regressor.add(tf.keras.layers.Dense(vocab_size,activation='softmax'))\n",
    "# regressor.compile(loss='categorical_crossentropy',optimizer='adam',metrics=['accuracy'])\n",
    "# regressor.summary()"
   ]
  },
  {
   "cell_type": "code",
   "execution_count": 80,
   "metadata": {},
   "outputs": [
    {
     "name": "stdout",
     "output_type": "stream",
     "text": [
      "Model saved\n"
     ]
    }
   ],
   "source": [
    "#reload the model\n",
    "import tensorflow as tf\n",
    "regressor=tf.keras.models.load_model(\"textPredictor.h5\")\n",
    "history=regressor.fit(predictors,labels,epochs=300,verbose=1)\n",
    "regressor.save(\"textPredictor.h5\")\n",
    "print(\"Model saved\")"
   ]
  }
 ],
 "metadata": {
  "interpreter": {
   "hash": "001cc4bbec461e7b3ff56efd15477030ac16885c25fc74d3cb878f1208413e9e"
  },
  "kernelspec": {
   "display_name": "Python 3.8.9 64-bit",
   "name": "python3"
  },
  "language_info": {
   "codemirror_mode": {
    "name": "ipython",
    "version": 3
   },
   "file_extension": ".py",
   "mimetype": "text/x-python",
   "name": "python",
   "nbconvert_exporter": "python",
   "pygments_lexer": "ipython3",
   "version": "3.8.9"
  },
  "orig_nbformat": 4
 },
 "nbformat": 4,
 "nbformat_minor": 2
}
